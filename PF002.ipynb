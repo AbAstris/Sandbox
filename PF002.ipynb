{
 "cells": [
  {
   "cell_type": "markdown",
   "id": "d5bc0b62",
   "metadata": {},
   "source": [
    "# PF002 Regional Analysis\n",
    "\n",
    "This is the analysis that will be used to determine the DTI values in regions near the lateral ventricles, specifically:\n",
    "- <b>ALIC</b>: Anterior Limb of the Internal Capsule (L, R)\n",
    "- <b>PLIC</b>: Posterior Limb of the Internal Capsule (L, R)\n",
    "- <b>EC</b>: External Capsule (L, R)\n",
    "- <b>CC</b>: Corpus Callosum (Genu, Splenium)\n"
   ]
  },
  {
   "cell_type": "code",
   "execution_count": 84,
   "id": "8cd285f9",
   "metadata": {},
   "outputs": [],
   "source": [
    "import nibabel as ni\n",
    "import pandas as pd\n",
    "import numpy as np\n",
    "\n",
    "pre_dir = '/Volumes/Cerberus/MRI/seb_cohort/preclinical_study/PF002/0pre/dti/bias_corr/tbss/stats/ROI/'\n",
    "post_dir = '/Volumes/Cerberus/MRI/seb_cohort/preclinical_study/PF002/1post/dti/bias_corr/tbss/stats/ROI/'\n",
    "fu_dir = '/Volumes/Cerberus/MRI/seb_cohort/preclinical_study/PF002/2fu/dti/bias_corr/tbss/stats/ROI/'"
   ]
  },
  {
   "cell_type": "markdown",
   "id": "e0b46925",
   "metadata": {},
   "source": [
    "## ALIC - Left"
   ]
  },
  {
   "cell_type": "code",
   "execution_count": 62,
   "id": "6c8f6b2e",
   "metadata": {},
   "outputs": [],
   "source": [
    "# Images from patients\n",
    "\n",
    "ALIC_pre = pre_dir+'ALIC_L/vol0020_ALIC_L.nii.gz'\n",
    "ALIC_post = post_dir+'ALIC_L/vol0020_ALIC_L.nii.gz'\n",
    "ALIC_fu = fu_dir+'ALIC_L/vol0020_ALIC_L.nii.gz'\n",
    "\n",
    "#Images from controls (all controls are the same, so just use 0pre controls)\n",
    "\n",
    "ALIC_00 = pre_dir+'ALIC_L/vol0000_ALIC_L.nii.gz'\n",
    "ALIC_01 = pre_dir+'ALIC_L/vol0001_ALIC_L.nii.gz'\n",
    "ALIC_02 = pre_dir+'ALIC_L/vol0002_ALIC_L.nii.gz'\n",
    "ALIC_03 = pre_dir+'ALIC_L/vol0003_ALIC_L.nii.gz'\n",
    "ALIC_04 = pre_dir+'ALIC_L/vol0004_ALIC_L.nii.gz'\n",
    "ALIC_05 = pre_dir+'ALIC_L/vol0005_ALIC_L.nii.gz'\n",
    "ALIC_06 = pre_dir+'ALIC_L/vol0006_ALIC_L.nii.gz'\n",
    "ALIC_07 = pre_dir+'ALIC_L/vol0007_ALIC_L.nii.gz'\n",
    "ALIC_08 = pre_dir+'ALIC_L/vol0008_ALIC_L.nii.gz'\n",
    "ALIC_09 = pre_dir+'ALIC_L/vol0009_ALIC_L.nii.gz'\n",
    "ALIC_10 = pre_dir+'ALIC_L/vol0010_ALIC_L.nii.gz'\n",
    "ALIC_11 = pre_dir+'ALIC_L/vol0011_ALIC_L.nii.gz'\n",
    "ALIC_12 = pre_dir+'ALIC_L/vol0012_ALIC_L.nii.gz'\n",
    "ALIC_13 = pre_dir+'ALIC_L/vol0013_ALIC_L.nii.gz'\n",
    "ALIC_14 = pre_dir+'ALIC_L/vol0014_ALIC_L.nii.gz'\n",
    "ALIC_15 = pre_dir+'ALIC_L/vol0015_ALIC_L.nii.gz'\n",
    "ALIC_16 = pre_dir+'ALIC_L/vol0016_ALIC_L.nii.gz'\n",
    "ALIC_17 = pre_dir+'ALIC_L/vol0017_ALIC_L.nii.gz'\n",
    "ALIC_18 = pre_dir+'ALIC_L/vol0018_ALIC_L.nii.gz'\n",
    "ALIC_19 = pre_dir+'ALIC_L/vol0019_ALIC_L.nii.gz'"
   ]
  },
  {
   "cell_type": "code",
   "execution_count": 85,
   "id": "d35e855b",
   "metadata": {},
   "outputs": [
    {
     "name": "stdout",
     "output_type": "stream",
     "text": [
      "mat_pre\n",
      "mat_post\n",
      "mat_fu\n",
      "mat_00\n",
      "mat_01\n",
      "mat_02\n",
      "mat_03\n",
      "mat_04\n",
      "mat_05\n",
      "mat_06\n",
      "mat_07\n",
      "mat_08\n",
      "mat_09\n",
      "mat_10\n",
      "mat_11\n",
      "mat_12\n",
      "mat_13\n",
      "mat_14\n",
      "mat_15\n",
      "mat_16\n",
      "mat_17\n",
      "mat_18\n",
      "mat_19\n"
     ]
    }
   ],
   "source": [
    "images = [ALIC_pre, ALIC_post, ALIC_fu, ALIC_00, ALIC_01, ALIC_02, ALIC_03, \n",
    "          ALIC_04, ALIC_05, ALIC_06, ALIC_07, ALIC_08, ALIC_09, ALIC_10, ALIC_11, \n",
    "          ALIC_12, ALIC_13, ALIC_14, ALIC_15, ALIC_16, ALIC_17, ALIC_18, ALIC_19]\n",
    "\n",
    "matrix = {'mat_pre':[], 'mat_post':[], 'mat_fu':[], 'mat_00':[], 'mat_01':[], 'mat_02':[], 'mat_03':[], 'mat_04':[], 'mat_05':[],\n",
    "         'mat_06':[], 'mat_07':[], 'mat_08':[], 'mat_09':[], 'mat_10':[], 'mat_11':[], 'mat_12':[], 'mat_13':[], 'mat_14':[],\n",
    "         'mat_15':[], 'mat_16':[], 'mat_17':[], 'mat_18':[], 'mat_19':[]}\n",
    "\n",
    "volumes = {'mat_pre':91.37, 'mat_post':85.45, 'mat_fu':39.97, 'mat_00':13.40, 'mat_01':5.96, 'mat_02':3.78, 'mat_03':4.07, 'mat_04':6.67, 'mat_05':8.56,\n",
    "         'mat_06':7.40, 'mat_07':25.83, 'mat_08':3.91, 'mat_09':10.35, 'mat_10':4.10, 'mat_11':3.40, 'mat_12':9.95, 'mat_13':6.09, 'mat_14':4.46,\n",
    "         'mat_15':6.37, 'mat_16':25.63, 'mat_17':5.14, 'mat_18':18.02, 'mat_19':6.99}\n",
    "\n",
    "\n",
    "matrix_names = list(matrix.keys())\n",
    "volumes_value = list(volumes.values())\n",
    "\n",
    "label_matrix = ['mat_pre', 'mat_post', 'mat_fu', 'mat_00', 'mat_01', 'mat_02', 'mat_03', 'mat_04', 'mat_05', 'mat_06',\n",
    "               'mat_07', 'mat_08', 'mat_09', 'mat_10', 'mat_11', 'mat_12', 'mat_13', 'mat_14', 'mat_15', 'mat_16', \n",
    "               'mat_17', 'mat_18', 'mat_19']\n",
    "\n",
    "volume_expand = {}\n",
    "\n",
    "for x in range(0,len(images)):\n",
    "    \n",
    "    print(label_matrix[x])\n",
    "            \n",
    "    img = ni.load(images[x])\n",
    "    data = img.get_fdata()\n",
    "    \n",
    "    intensity=[]\n",
    "    volume_list = []\n",
    "    \n",
    "    for i in range(img.shape[0]):\n",
    "        for j in range(img.shape[1]):\n",
    "            for k in range(img.shape[2]):\n",
    "                if data[i][j][k] != 0.0:\n",
    "                    intensity.append(data[i][j][k])\n",
    "                    volume_list.append(volumes[label_matrix[x]])\n",
    "    \n",
    "    matrix[label_matrix[x]]=intensity\n",
    "    volume_expand[label_matrix[x]]=volume_list\n",
    "    \n",
    "DTI_value = list(matrix.values())\n",
    "volume_value_expand = list(volume_expand.values())\n",
    "        "
   ]
  },
  {
   "cell_type": "code",
   "execution_count": 87,
   "id": "2bc3e0ea",
   "metadata": {},
   "outputs": [
    {
     "ename": "ValueError",
     "evalue": "setting an array element with a sequence. The requested array has an inhomogeneous shape after 1 dimensions. The detected shape was (23,) + inhomogeneous part.",
     "output_type": "error",
     "traceback": [
      "\u001b[0;31m---------------------------------------------------------------------------\u001b[0m",
      "\u001b[0;31mValueError\u001b[0m                                Traceback (most recent call last)",
      "Cell \u001b[0;32mIn[87], line 8\u001b[0m\n\u001b[1;32m      1\u001b[0m \u001b[38;5;66;03m#volumes = {'mat_pre':91.37, 'mat_post':85.45, 'mat_fu':39.97, 'mat_00':13.40, 'mat_01':5.96, 'mat_02':3.78, 'mat_03':4.07, 'mat_04':6.67, 'mat_05':8.56,\u001b[39;00m\n\u001b[1;32m      2\u001b[0m \u001b[38;5;66;03m#         'mat_06':7.40, 'mat_07':25.83, 'mat_08':3.91, 'mat_09':10.35, 'mat_10':4.10, 'mat_11':3.40, 'mat_12':9.95, 'mat_13':6.09, 'mat_14':4.46,\u001b[39;00m\n\u001b[1;32m      3\u001b[0m \u001b[38;5;66;03m#         'mat_15':6.37, 'mat_16':25.63, 'mat_17':5.14, 'mat_18':18.02, 'mat_19':6.99}\u001b[39;00m\n\u001b[1;32m      4\u001b[0m \n\u001b[1;32m      5\u001b[0m \u001b[38;5;66;03m#volumes_value = list(volumes.values())\u001b[39;00m\n\u001b[1;32m      7\u001b[0m array_names \u001b[38;5;241m=\u001b[39m np\u001b[38;5;241m.\u001b[39marray(matrix_names)\n\u001b[0;32m----> 8\u001b[0m array_DTI \u001b[38;5;241m=\u001b[39m \u001b[43mnp\u001b[49m\u001b[38;5;241;43m.\u001b[39;49m\u001b[43marray\u001b[49m\u001b[43m(\u001b[49m\u001b[43mDTI_value\u001b[49m\u001b[43m)\u001b[49m\n\u001b[1;32m      9\u001b[0m array_vol \u001b[38;5;241m=\u001b[39m np\u001b[38;5;241m.\u001b[39marray(volume_value_expand)\n\u001b[1;32m     11\u001b[0m d\u001b[38;5;241m=\u001b[39m{\u001b[38;5;124m'\u001b[39m\u001b[38;5;124mscan\u001b[39m\u001b[38;5;124m'\u001b[39m:array_names, \u001b[38;5;124m'\u001b[39m\u001b[38;5;124mmatrix_plt\u001b[39m\u001b[38;5;124m'\u001b[39m:array_DTI, \u001b[38;5;124m'\u001b[39m\u001b[38;5;124mvol\u001b[39m\u001b[38;5;124m'\u001b[39m:array_vol}\n",
      "\u001b[0;31mValueError\u001b[0m: setting an array element with a sequence. The requested array has an inhomogeneous shape after 1 dimensions. The detected shape was (23,) + inhomogeneous part."
     ]
    }
   ],
   "source": [
    "#volumes = {'mat_pre':91.37, 'mat_post':85.45, 'mat_fu':39.97, 'mat_00':13.40, 'mat_01':5.96, 'mat_02':3.78, 'mat_03':4.07, 'mat_04':6.67, 'mat_05':8.56,\n",
    "#         'mat_06':7.40, 'mat_07':25.83, 'mat_08':3.91, 'mat_09':10.35, 'mat_10':4.10, 'mat_11':3.40, 'mat_12':9.95, 'mat_13':6.09, 'mat_14':4.46,\n",
    "#         'mat_15':6.37, 'mat_16':25.63, 'mat_17':5.14, 'mat_18':18.02, 'mat_19':6.99}\n",
    "\n",
    "#volumes_value = list(volumes.values())\n",
    "\n",
    "array_names = np.array(matrix_names)\n",
    "array_DTI = np.array(DTI_value)\n",
    "array_vol = np.array(volume_value_expand)\n",
    "\n",
    "d={'scan':array_names, 'matrix_plt':array_DTI, 'vol':array_vol}\n",
    "\n",
    "print(type(array_names))\n",
    "print(type(array_DTI))\n",
    "print(type(array_vol))\n",
    "\n",
    "df = pd.DataFrame(data=d)\n",
    "print(df)\n",
    "\n",
    "#DTI_vol = dict(DTI_params = DTI_value, Vent_vol = volume_value_expand)\n",
    "#df = pd.DataFrame(data=, index=matrix_names)\n",
    "\n",
    "ax = df.plot.scatter(x='vol', y='matrix_plt')\n",
    "\n",
    "plt\n",
    "\n",
    "#df = pd.DataFrame(data = matrix);"
   ]
  },
  {
   "cell_type": "code",
   "execution_count": null,
   "id": "48a5f4d3",
   "metadata": {},
   "outputs": [],
   "source": []
  }
 ],
 "metadata": {
  "kernelspec": {
   "display_name": "Python 3 (ipykernel)",
   "language": "python",
   "name": "python3"
  },
  "language_info": {
   "codemirror_mode": {
    "name": "ipython",
    "version": 3
   },
   "file_extension": ".py",
   "mimetype": "text/x-python",
   "name": "python",
   "nbconvert_exporter": "python",
   "pygments_lexer": "ipython3",
   "version": "3.11.3"
  }
 },
 "nbformat": 4,
 "nbformat_minor": 5
}
